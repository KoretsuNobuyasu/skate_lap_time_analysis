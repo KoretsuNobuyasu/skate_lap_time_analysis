{
 "cells": [
  {
   "cell_type": "code",
   "execution_count": 1,
   "metadata": {
    "collapsed": true,
    "pycharm": {
     "name": "#%%\n"
    }
   },
   "outputs": [
    {
     "data": {
      "text/plain": "<module 'defs' from '/home/jovyan/dev/projects/vinx/defs.py'>"
     },
     "execution_count": 1,
     "metadata": {},
     "output_type": "execute_result"
    }
   ],
   "source": [
    "%load_ext autoreload\n",
    "%autoreload 2\n",
    "# coding=utf-8#%%\n",
    "\n",
    "import defs as d\n",
    "import pandas as pd\n",
    "import numpy as np\n",
    "from sklearn.model_selection import GridSearchCV\n",
    "from sklearn.metrics import mean_squared_error\n",
    "import lightgbm as lgb\n",
    "import bias_variance_decomposition as bvd\n",
    "import hpo\n",
    "import eda\n",
    "import loss_functions as lf\n",
    "import matplotlib.pyplot as plt\n",
    "import matplotlib.ticker as ticker\n",
    "import numpy as np\n",
    "import scipy.stats as stats\n",
    "import workflow as wf\n",
    "import ma_std_featurize as msf\n",
    "import weather_datasource as wd\n",
    "import base_datasource as bd\n",
    "d"
   ]
  },
  {
   "cell_type": "code",
   "execution_count": 2,
   "outputs": [
    {
     "name": "stdout",
     "output_type": "stream",
     "text": [
      "start\n",
      "Saved to: /home/jovyan/dev/projects/vinx/work/data/interim/weather_data.pkl\n",
      "CPU times: user 74.5 ms, sys: 11.6 ms, total: 86 ms\n",
      "Wall time: 147 ms\n"
     ]
    }
   ],
   "source": [
    "%%time\n",
    "print('start')\n",
    "wd.weather_data_to_pickle()"
   ],
   "metadata": {
    "collapsed": false,
    "pycharm": {
     "name": "#%%\n"
    }
   }
  },
  {
   "cell_type": "code",
   "execution_count": 4,
   "outputs": [
    {
     "name": "stdout",
     "output_type": "stream",
     "text": [
      "start\n",
      "Saved to: /home/jovyan/dev/projects/vinx/work/data/interim/basedata.pkl\n",
      "CPU times: user 11.4 s, sys: 791 ms, total: 12.1 s\n",
      "Wall time: 12.4 s\n"
     ]
    }
   ],
   "source": [
    "%%time\n",
    "print('start')\n",
    "bd.basedata_to_pickle(for_eda=False)"
   ],
   "metadata": {
    "collapsed": false,
    "pycharm": {
     "name": "#%%\n"
    }
   }
  },
  {
   "cell_type": "code",
   "execution_count": 258,
   "outputs": [
    {
     "name": "stdout",
     "output_type": "stream",
     "text": [
      "start\n",
      "CPU times: user 510 µs, sys: 1.07 ms, total: 1.58 ms\n",
      "Wall time: 1.09 ms\n"
     ]
    },
    {
     "data": {
      "text/plain": "        store_cd     date_t          ma7         ma14         ma30  \\\n0            113 2017-01-27          NaN          NaN          NaN   \n1            113 2017-01-28          NaN          NaN          NaN   \n2            113 2017-01-29          NaN          NaN          NaN   \n3            113 2017-01-30          NaN          NaN          NaN   \n4            113 2017-01-31          NaN          NaN          NaN   \n...          ...        ...          ...          ...          ...   \n205207       880 2020-05-07  3209.000000  3155.142857  3088.900000   \n205208       880 2020-05-08  3196.428571  3171.642857  3099.533333   \n205209       880 2020-05-09  3199.285714  3184.000000  3105.333333   \n205210       880 2020-05-10  3235.428571  3207.928571  3108.533333   \n205211       880 2020-05-11  3234.285714  3213.785714  3100.500000   \n\n              std7       std14       std30  customer_count_sum        all_ma7  \\\n0              NaN         NaN         NaN              426045            NaN   \n1              NaN         NaN         NaN              432364            NaN   \n2              NaN         NaN         NaN              446540            NaN   \n3              NaN         NaN         NaN              480638            NaN   \n4              NaN         NaN         NaN              428062            NaN   \n...            ...         ...         ...                 ...            ...   \n205207  147.704660  135.822201  219.580533              493144  460596.571429   \n205208  132.605753  138.940279  222.035681              483308  457995.428571   \n205209  134.456578  140.623338  224.523147              462312  457264.714286   \n205210   97.841466  116.474800  225.817860              462194  460209.857143   \n205211   98.084512  114.351132  217.227634              478967  464986.285714   \n\n             all_ma14       all_ma30      all_std7     all_std14     all_std30  \n0                 NaN            NaN           NaN           NaN           NaN  \n1                 NaN            NaN           NaN           NaN           NaN  \n2                 NaN            NaN           NaN           NaN           NaN  \n3                 NaN            NaN           NaN           NaN           NaN  \n4                 NaN            NaN           NaN           NaN           NaN  \n...               ...            ...           ...           ...           ...  \n205207  459393.928571  458500.166667  34982.121738  29835.511176  37503.108586  \n205208  459811.714286  459299.233333  31980.569079  30147.257601  37775.921087  \n205209  460406.571429  459151.366667  31787.003207  30105.555372  37754.434728  \n205210  462581.071429  458280.500000  31037.582662  28953.985854  37357.646631  \n205211  465574.571429  457533.533333  30974.936786  28270.601402  36684.201935  \n\n[205212 rows x 15 columns]",
      "text/html": "<div>\n<style scoped>\n    .dataframe tbody tr th:only-of-type {\n        vertical-align: middle;\n    }\n\n    .dataframe tbody tr th {\n        vertical-align: top;\n    }\n\n    .dataframe thead th {\n        text-align: right;\n    }\n</style>\n<table border=\"1\" class=\"dataframe\">\n  <thead>\n    <tr style=\"text-align: right;\">\n      <th></th>\n      <th>store_cd</th>\n      <th>date_t</th>\n      <th>ma7</th>\n      <th>ma14</th>\n      <th>ma30</th>\n      <th>std7</th>\n      <th>std14</th>\n      <th>std30</th>\n      <th>customer_count_sum</th>\n      <th>all_ma7</th>\n      <th>all_ma14</th>\n      <th>all_ma30</th>\n      <th>all_std7</th>\n      <th>all_std14</th>\n      <th>all_std30</th>\n    </tr>\n  </thead>\n  <tbody>\n    <tr>\n      <th>0</th>\n      <td>113</td>\n      <td>2017-01-27</td>\n      <td>NaN</td>\n      <td>NaN</td>\n      <td>NaN</td>\n      <td>NaN</td>\n      <td>NaN</td>\n      <td>NaN</td>\n      <td>426045</td>\n      <td>NaN</td>\n      <td>NaN</td>\n      <td>NaN</td>\n      <td>NaN</td>\n      <td>NaN</td>\n      <td>NaN</td>\n    </tr>\n    <tr>\n      <th>1</th>\n      <td>113</td>\n      <td>2017-01-28</td>\n      <td>NaN</td>\n      <td>NaN</td>\n      <td>NaN</td>\n      <td>NaN</td>\n      <td>NaN</td>\n      <td>NaN</td>\n      <td>432364</td>\n      <td>NaN</td>\n      <td>NaN</td>\n      <td>NaN</td>\n      <td>NaN</td>\n      <td>NaN</td>\n      <td>NaN</td>\n    </tr>\n    <tr>\n      <th>2</th>\n      <td>113</td>\n      <td>2017-01-29</td>\n      <td>NaN</td>\n      <td>NaN</td>\n      <td>NaN</td>\n      <td>NaN</td>\n      <td>NaN</td>\n      <td>NaN</td>\n      <td>446540</td>\n      <td>NaN</td>\n      <td>NaN</td>\n      <td>NaN</td>\n      <td>NaN</td>\n      <td>NaN</td>\n      <td>NaN</td>\n    </tr>\n    <tr>\n      <th>3</th>\n      <td>113</td>\n      <td>2017-01-30</td>\n      <td>NaN</td>\n      <td>NaN</td>\n      <td>NaN</td>\n      <td>NaN</td>\n      <td>NaN</td>\n      <td>NaN</td>\n      <td>480638</td>\n      <td>NaN</td>\n      <td>NaN</td>\n      <td>NaN</td>\n      <td>NaN</td>\n      <td>NaN</td>\n      <td>NaN</td>\n    </tr>\n    <tr>\n      <th>4</th>\n      <td>113</td>\n      <td>2017-01-31</td>\n      <td>NaN</td>\n      <td>NaN</td>\n      <td>NaN</td>\n      <td>NaN</td>\n      <td>NaN</td>\n      <td>NaN</td>\n      <td>428062</td>\n      <td>NaN</td>\n      <td>NaN</td>\n      <td>NaN</td>\n      <td>NaN</td>\n      <td>NaN</td>\n      <td>NaN</td>\n    </tr>\n    <tr>\n      <th>...</th>\n      <td>...</td>\n      <td>...</td>\n      <td>...</td>\n      <td>...</td>\n      <td>...</td>\n      <td>...</td>\n      <td>...</td>\n      <td>...</td>\n      <td>...</td>\n      <td>...</td>\n      <td>...</td>\n      <td>...</td>\n      <td>...</td>\n      <td>...</td>\n      <td>...</td>\n    </tr>\n    <tr>\n      <th>205207</th>\n      <td>880</td>\n      <td>2020-05-07</td>\n      <td>3209.000000</td>\n      <td>3155.142857</td>\n      <td>3088.900000</td>\n      <td>147.704660</td>\n      <td>135.822201</td>\n      <td>219.580533</td>\n      <td>493144</td>\n      <td>460596.571429</td>\n      <td>459393.928571</td>\n      <td>458500.166667</td>\n      <td>34982.121738</td>\n      <td>29835.511176</td>\n      <td>37503.108586</td>\n    </tr>\n    <tr>\n      <th>205208</th>\n      <td>880</td>\n      <td>2020-05-08</td>\n      <td>3196.428571</td>\n      <td>3171.642857</td>\n      <td>3099.533333</td>\n      <td>132.605753</td>\n      <td>138.940279</td>\n      <td>222.035681</td>\n      <td>483308</td>\n      <td>457995.428571</td>\n      <td>459811.714286</td>\n      <td>459299.233333</td>\n      <td>31980.569079</td>\n      <td>30147.257601</td>\n      <td>37775.921087</td>\n    </tr>\n    <tr>\n      <th>205209</th>\n      <td>880</td>\n      <td>2020-05-09</td>\n      <td>3199.285714</td>\n      <td>3184.000000</td>\n      <td>3105.333333</td>\n      <td>134.456578</td>\n      <td>140.623338</td>\n      <td>224.523147</td>\n      <td>462312</td>\n      <td>457264.714286</td>\n      <td>460406.571429</td>\n      <td>459151.366667</td>\n      <td>31787.003207</td>\n      <td>30105.555372</td>\n      <td>37754.434728</td>\n    </tr>\n    <tr>\n      <th>205210</th>\n      <td>880</td>\n      <td>2020-05-10</td>\n      <td>3235.428571</td>\n      <td>3207.928571</td>\n      <td>3108.533333</td>\n      <td>97.841466</td>\n      <td>116.474800</td>\n      <td>225.817860</td>\n      <td>462194</td>\n      <td>460209.857143</td>\n      <td>462581.071429</td>\n      <td>458280.500000</td>\n      <td>31037.582662</td>\n      <td>28953.985854</td>\n      <td>37357.646631</td>\n    </tr>\n    <tr>\n      <th>205211</th>\n      <td>880</td>\n      <td>2020-05-11</td>\n      <td>3234.285714</td>\n      <td>3213.785714</td>\n      <td>3100.500000</td>\n      <td>98.084512</td>\n      <td>114.351132</td>\n      <td>217.227634</td>\n      <td>478967</td>\n      <td>464986.285714</td>\n      <td>465574.571429</td>\n      <td>457533.533333</td>\n      <td>30974.936786</td>\n      <td>28270.601402</td>\n      <td>36684.201935</td>\n    </tr>\n  </tbody>\n</table>\n<p>205212 rows × 15 columns</p>\n</div>"
     },
     "execution_count": 258,
     "metadata": {},
     "output_type": "execute_result"
    }
   ],
   "source": [
    "%%time\n",
    "print('start')\n",
    "f"
   ],
   "metadata": {
    "collapsed": false,
    "pycharm": {
     "name": "#%%\n"
    }
   }
  },
  {
   "cell_type": "code",
   "execution_count": 260,
   "outputs": [
    {
     "name": "stdout",
     "output_type": "stream",
     "text": [
      "start\n",
      "CPU times: user 18.5 ms, sys: 5.32 ms, total: 23.9 ms\n",
      "Wall time: 56.8 ms\n"
     ]
    }
   ],
   "source": [
    "%%time\n",
    "print('start')\n",
    "mask = (f['store_cd'] == 880)\n",
    "f[mask].to_csv(d.TMP+'/mastd_check880.csv', index=False)"
   ],
   "metadata": {
    "collapsed": false,
    "pycharm": {
     "name": "#%%\n"
    }
   }
  }
 ],
 "metadata": {
  "kernelspec": {
   "name": "python3",
   "language": "python",
   "display_name": "Python 3"
  },
  "language_info": {
   "codemirror_mode": {
    "name": "ipython",
    "version": 2
   },
   "file_extension": ".py",
   "mimetype": "text/x-python",
   "name": "python",
   "nbconvert_exporter": "python",
   "pygments_lexer": "ipython2",
   "version": "2.7.6"
  }
 },
 "nbformat": 4,
 "nbformat_minor": 0
}